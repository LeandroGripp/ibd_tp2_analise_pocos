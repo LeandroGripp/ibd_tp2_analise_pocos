{
  "nbformat": 4,
  "nbformat_minor": 0,
  "metadata": {
    "colab": {
      "provenance": []
    },
    "kernelspec": {
      "name": "python3",
      "display_name": "Python 3"
    },
    "language_info": {
      "name": "python"
    }
  },
  "cells": [
    {
      "cell_type": "code",
      "execution_count": null,
      "metadata": {
        "id": "Vhpm-LKRA2hM"
      },
      "outputs": [],
      "source": [
        "import pandas as pd\n",
        "import io\n",
        "import os\n",
        "import sqlite3\n",
        "from google.colab import drive"
      ]
    },
    {
      "cell_type": "code",
      "source": [
        "pd.set_option('display.max_columns', 500)"
      ],
      "metadata": {
        "id": "lxGNHR4CMtF5"
      },
      "execution_count": null,
      "outputs": []
    },
    {
      "cell_type": "code",
      "source": [
        "subset = True"
      ],
      "metadata": {
        "id": "o2rWuIb4T7NE"
      },
      "execution_count": null,
      "outputs": []
    },
    {
      "cell_type": "markdown",
      "source": [
        "# Getting Full Data\n",
        "\n",
        "\n",
        "*   Connecting with database (conn object)\n",
        "*   Setting up database with tables specified in db.sql file\n",
        "*   Importing datasets from folder\n",
        "*   Creating OriginalDataSet table with all the data\n",
        "*   To use a subset, set the subset flag to true\n"
      ],
      "metadata": {
        "id": "19I_jmYeC8dA"
      }
    },
    {
      "cell_type": "code",
      "source": [
        "# Mounting Drive and getting datasets directory and sql file\n",
        "\n",
        "drive.mount(\"/content/drive/\")\n",
        "ds_dir = \"/content/drive/My Drive/Facul/IBD/TP2/datasets\"\n",
        "db_file = \"/content/drive/My Drive/Facul/IBD/TP2/db.sql\""
      ],
      "metadata": {
        "colab": {
          "base_uri": "https://localhost:8080/",
          "height": 381
        },
        "id": "m8AyRvTDDean",
        "outputId": "6c9635ee-521e-462d-95a8-e7b9c8fc615c"
      },
      "execution_count": null,
      "outputs": [
        {
          "output_type": "error",
          "ename": "MessageError",
          "evalue": "ignored",
          "traceback": [
            "\u001b[0;31m---------------------------------------------------------------------------\u001b[0m",
            "\u001b[0;31mMessageError\u001b[0m                              Traceback (most recent call last)",
            "\u001b[0;32m<ipython-input-4-e4532573a03d>\u001b[0m in \u001b[0;36m<cell line: 3>\u001b[0;34m()\u001b[0m\n\u001b[1;32m      1\u001b[0m \u001b[0;31m# Mounting Drive and getting datasets directory and sql file\u001b[0m\u001b[0;34m\u001b[0m\u001b[0;34m\u001b[0m\u001b[0m\n\u001b[1;32m      2\u001b[0m \u001b[0;34m\u001b[0m\u001b[0m\n\u001b[0;32m----> 3\u001b[0;31m \u001b[0mdrive\u001b[0m\u001b[0;34m.\u001b[0m\u001b[0mmount\u001b[0m\u001b[0;34m(\u001b[0m\u001b[0;34m\"/content/drive/\"\u001b[0m\u001b[0;34m)\u001b[0m\u001b[0;34m\u001b[0m\u001b[0;34m\u001b[0m\u001b[0m\n\u001b[0m\u001b[1;32m      4\u001b[0m \u001b[0mds_dir\u001b[0m \u001b[0;34m=\u001b[0m \u001b[0;34m\"/content/drive/My Drive/Facul/IBD/TP2/datasets\"\u001b[0m\u001b[0;34m\u001b[0m\u001b[0;34m\u001b[0m\u001b[0m\n\u001b[1;32m      5\u001b[0m \u001b[0mdb_file\u001b[0m \u001b[0;34m=\u001b[0m \u001b[0;34m\"/content/drive/My Drive/Facul/IBD/TP2/db.sql\"\u001b[0m\u001b[0;34m\u001b[0m\u001b[0;34m\u001b[0m\u001b[0m\n",
            "\u001b[0;32m/usr/local/lib/python3.10/dist-packages/google/colab/drive.py\u001b[0m in \u001b[0;36mmount\u001b[0;34m(mountpoint, force_remount, timeout_ms, readonly)\u001b[0m\n\u001b[1;32m    101\u001b[0m \u001b[0;32mdef\u001b[0m \u001b[0mmount\u001b[0m\u001b[0;34m(\u001b[0m\u001b[0mmountpoint\u001b[0m\u001b[0;34m,\u001b[0m \u001b[0mforce_remount\u001b[0m\u001b[0;34m=\u001b[0m\u001b[0;32mFalse\u001b[0m\u001b[0;34m,\u001b[0m \u001b[0mtimeout_ms\u001b[0m\u001b[0;34m=\u001b[0m\u001b[0;36m120000\u001b[0m\u001b[0;34m,\u001b[0m \u001b[0mreadonly\u001b[0m\u001b[0;34m=\u001b[0m\u001b[0;32mFalse\u001b[0m\u001b[0;34m)\u001b[0m\u001b[0;34m:\u001b[0m\u001b[0;34m\u001b[0m\u001b[0;34m\u001b[0m\u001b[0m\n\u001b[1;32m    102\u001b[0m   \u001b[0;34m\"\"\"Mount your Google Drive at the specified mountpoint path.\"\"\"\u001b[0m\u001b[0;34m\u001b[0m\u001b[0;34m\u001b[0m\u001b[0m\n\u001b[0;32m--> 103\u001b[0;31m   return _mount(\n\u001b[0m\u001b[1;32m    104\u001b[0m       \u001b[0mmountpoint\u001b[0m\u001b[0;34m,\u001b[0m\u001b[0;34m\u001b[0m\u001b[0;34m\u001b[0m\u001b[0m\n\u001b[1;32m    105\u001b[0m       \u001b[0mforce_remount\u001b[0m\u001b[0;34m=\u001b[0m\u001b[0mforce_remount\u001b[0m\u001b[0;34m,\u001b[0m\u001b[0;34m\u001b[0m\u001b[0;34m\u001b[0m\u001b[0m\n",
            "\u001b[0;32m/usr/local/lib/python3.10/dist-packages/google/colab/drive.py\u001b[0m in \u001b[0;36m_mount\u001b[0;34m(mountpoint, force_remount, timeout_ms, ephemeral, readonly)\u001b[0m\n\u001b[1;32m    130\u001b[0m   )\n\u001b[1;32m    131\u001b[0m   \u001b[0;32mif\u001b[0m \u001b[0mephemeral\u001b[0m\u001b[0;34m:\u001b[0m\u001b[0;34m\u001b[0m\u001b[0;34m\u001b[0m\u001b[0m\n\u001b[0;32m--> 132\u001b[0;31m     _message.blocking_request(\n\u001b[0m\u001b[1;32m    133\u001b[0m         \u001b[0;34m'request_auth'\u001b[0m\u001b[0;34m,\u001b[0m \u001b[0mrequest\u001b[0m\u001b[0;34m=\u001b[0m\u001b[0;34m{\u001b[0m\u001b[0;34m'authType'\u001b[0m\u001b[0;34m:\u001b[0m \u001b[0;34m'dfs_ephemeral'\u001b[0m\u001b[0;34m}\u001b[0m\u001b[0;34m,\u001b[0m \u001b[0mtimeout_sec\u001b[0m\u001b[0;34m=\u001b[0m\u001b[0;32mNone\u001b[0m\u001b[0;34m\u001b[0m\u001b[0;34m\u001b[0m\u001b[0m\n\u001b[1;32m    134\u001b[0m     )\n",
            "\u001b[0;32m/usr/local/lib/python3.10/dist-packages/google/colab/_message.py\u001b[0m in \u001b[0;36mblocking_request\u001b[0;34m(request_type, request, timeout_sec, parent)\u001b[0m\n\u001b[1;32m    174\u001b[0m       \u001b[0mrequest_type\u001b[0m\u001b[0;34m,\u001b[0m \u001b[0mrequest\u001b[0m\u001b[0;34m,\u001b[0m \u001b[0mparent\u001b[0m\u001b[0;34m=\u001b[0m\u001b[0mparent\u001b[0m\u001b[0;34m,\u001b[0m \u001b[0mexpect_reply\u001b[0m\u001b[0;34m=\u001b[0m\u001b[0;32mTrue\u001b[0m\u001b[0;34m\u001b[0m\u001b[0;34m\u001b[0m\u001b[0m\n\u001b[1;32m    175\u001b[0m   )\n\u001b[0;32m--> 176\u001b[0;31m   \u001b[0;32mreturn\u001b[0m \u001b[0mread_reply_from_input\u001b[0m\u001b[0;34m(\u001b[0m\u001b[0mrequest_id\u001b[0m\u001b[0;34m,\u001b[0m \u001b[0mtimeout_sec\u001b[0m\u001b[0;34m)\u001b[0m\u001b[0;34m\u001b[0m\u001b[0;34m\u001b[0m\u001b[0m\n\u001b[0m",
            "\u001b[0;32m/usr/local/lib/python3.10/dist-packages/google/colab/_message.py\u001b[0m in \u001b[0;36mread_reply_from_input\u001b[0;34m(message_id, timeout_sec)\u001b[0m\n\u001b[1;32m    101\u001b[0m     ):\n\u001b[1;32m    102\u001b[0m       \u001b[0;32mif\u001b[0m \u001b[0;34m'error'\u001b[0m \u001b[0;32min\u001b[0m \u001b[0mreply\u001b[0m\u001b[0;34m:\u001b[0m\u001b[0;34m\u001b[0m\u001b[0;34m\u001b[0m\u001b[0m\n\u001b[0;32m--> 103\u001b[0;31m         \u001b[0;32mraise\u001b[0m \u001b[0mMessageError\u001b[0m\u001b[0;34m(\u001b[0m\u001b[0mreply\u001b[0m\u001b[0;34m[\u001b[0m\u001b[0;34m'error'\u001b[0m\u001b[0;34m]\u001b[0m\u001b[0;34m)\u001b[0m\u001b[0;34m\u001b[0m\u001b[0;34m\u001b[0m\u001b[0m\n\u001b[0m\u001b[1;32m    104\u001b[0m       \u001b[0;32mreturn\u001b[0m \u001b[0mreply\u001b[0m\u001b[0;34m.\u001b[0m\u001b[0mget\u001b[0m\u001b[0;34m(\u001b[0m\u001b[0;34m'data'\u001b[0m\u001b[0;34m,\u001b[0m \u001b[0;32mNone\u001b[0m\u001b[0;34m)\u001b[0m\u001b[0;34m\u001b[0m\u001b[0;34m\u001b[0m\u001b[0m\n\u001b[1;32m    105\u001b[0m \u001b[0;34m\u001b[0m\u001b[0m\n",
            "\u001b[0;31mMessageError\u001b[0m: Error: credential propagation was unsuccessful"
          ]
        }
      ]
    },
    {
      "cell_type": "code",
      "source": [
        "# Reading DB definition file\n",
        "\n",
        "conn = sqlite3.connect('/tmp/consult.db')\n",
        "cursor = conn.cursor()\n",
        "\n",
        "f = io.open(db_file, 'r', encoding='utf-8')\n",
        "sql = f.read()\n",
        "cursor.executescript(sql)"
      ],
      "metadata": {
        "id": "m_ASng3fHeLo"
      },
      "execution_count": null,
      "outputs": []
    },
    {
      "cell_type": "code",
      "source": [
        "# Get names of dataset files\n",
        "\n",
        "ds_files = os.listdir(ds_dir)"
      ],
      "metadata": {
        "id": "KdG_dyslFoMx"
      },
      "execution_count": null,
      "outputs": []
    },
    {
      "cell_type": "code",
      "source": [
        "# Read one file \n",
        "def read_ds_to_df(file_name):\n",
        "  ano = int(file_name[:-4].split(\"_\")[0])\n",
        "  mes = int(file_name[:-4].split(\"_\")[1])\n",
        "  area = file_name[:-4].split(\"_\")[3]\n",
        "\n",
        "  skip = 7 if mes<9 else 3\n",
        "\n",
        "  df = pd.read_csv('/'.join((ds_dir, file_name)), sep=';', header=None, skiprows=skip)\n",
        "  df = df if mes<9 else df.drop(47,axis='columns')\n",
        "  df.columns = [ \n",
        "      \"estado\", \"bacia\", \"nome_poco_anp\", \"nome_poco_operador\", \"campo\", \"operador\", \"numero_contrato\", \"periodo\", \"oleo\", \"condensado\", \"petroleo\", \n",
        "      \"gas_natural_associado\", \"gas_natural_nao_associado\", \"gas_natural_total\", \"volume_gas_royalties\", \"agua\", \"instalacao_destino\", \"tipo_instalacao\", \n",
        "      \"tempo_producao\", \"periodo_da_carga\", \"corrente\", \"grau_api\", \"fp_lc\", \"fp_lv\", \"fp_mc\", \"fp_mv\", \"fp_pc\", \"fp_pv\", \n",
        "      \"metano\", \"etano\", \"propano\", \"isobutano\", \"butano\", \"isopentano\", \"npentano\", \"hexanos\", \"heptanos\", \"octanos\", \"nonanos\", \"decanos\", \n",
        "      \"undecanos\", \"oxigenio\", \"nitrogenio\", \"gas_carbonico\", \"densidade_glp_gas\", \"densidade_glp_liquido\", \"pcs_gp\"\n",
        "  ]\n",
        "  df[\"ano\"] = file_name[:-4].split(\"_\")[0]\n",
        "  df[\"mes\"] = file_name[:-4].split(\"_\")[1]\n",
        "  df[\"area\"] = file_name[:-4].split(\"_\")[3]\n",
        "\n",
        "  return df"
      ],
      "metadata": {
        "id": "TIZ9sRzlD0cc"
      },
      "execution_count": null,
      "outputs": []
    },
    {
      "cell_type": "code",
      "source": [
        "conn.execute('DELETE FROM OriginalDataSet;')\n",
        "\n",
        "if subset:\n",
        "  df_data = read_ds_to_df(ds_files[0])\n",
        "  df_data.to_sql(name='OriginalDataSet', con=conn, if_exists='append', index=False)\n",
        "else:\n",
        "  for i in range(len(ds_files)):\n",
        "    df_data = read_ds_to_df(ds_files[i])\n",
        "    df_data.to_sql(name='OriginalDataSet', con=conn, if_exists='append', index=False)"
      ],
      "metadata": {
        "id": "6wJdH9PFGm-R"
      },
      "execution_count": null,
      "outputs": []
    },
    {
      "cell_type": "markdown",
      "source": [
        "# Locais"
      ],
      "metadata": {
        "id": "xrh684aUUaEb"
      }
    },
    {
      "cell_type": "code",
      "source": [
        "conn.execute('DELETE FROM Locais;')\n",
        "\n",
        "cmd = \"\"\"\n",
        "INSERT INTO\n",
        "  Locais(estado, bacia, campo)\n",
        "SELECT DISTINCT\n",
        "  estado, bacia, campo\n",
        "FROM \n",
        "  OriginalDataSet\n",
        "\"\"\"\n",
        "\n",
        "conn.execute(cmd)"
      ],
      "metadata": {
        "colab": {
          "base_uri": "https://localhost:8080/"
        },
        "id": "tltCztBnVHwQ",
        "outputId": "8b29149f-615f-4d12-a7c1-f9cde04a7188"
      },
      "execution_count": null,
      "outputs": [
        {
          "output_type": "execute_result",
          "data": {
            "text/plain": [
              "<sqlite3.Cursor at 0x7fa59c5b28f0>"
            ]
          },
          "metadata": {},
          "execution_count": 77
        }
      ]
    },
    {
      "cell_type": "code",
      "source": [
        "query = \"\"\"\n",
        "SELECT *\n",
        "FROM \n",
        "  Locais\n",
        "\n",
        "\"\"\"\n",
        "\n",
        "df = pd.read_sql_query(query, conn)\n",
        "df"
      ],
      "metadata": {
        "colab": {
          "base_uri": "https://localhost:8080/",
          "height": 645
        },
        "id": "SJGPcHMCVPcf",
        "outputId": "b4c7fc5e-dcae-46e1-971f-244de40da9c2"
      },
      "execution_count": null,
      "outputs": [
        {
          "output_type": "execute_result",
          "data": {
            "text/plain": [
              "    id_local          estado   bacia                 campo\n",
              "0          1  Rio de Janeiro  Campos          MARLIM LESTE\n",
              "1          2  Rio de Janeiro  Santos                BÚZIOS\n",
              "2          3  Rio de Janeiro  Santos              TAMBUATÁ\n",
              "3          4  Rio de Janeiro  Santos                  MERO\n",
              "4          5  Rio de Janeiro  Santos                  LULA\n",
              "5          6  Rio de Janeiro  Santos           SUL DE LULA\n",
              "6          7  Rio de Janeiro  Santos              AnC_LULA\n",
              "7          8       São Paulo  Santos              SAPINHOÁ\n",
              "8          9       São Paulo  Santos  SUDOESTE DE SAPINHOÁ\n",
              "9         10       São Paulo  Santos  NOROESTE DE SAPINHOA\n",
              "10        11       São Paulo  Santos  NORDESTE DE SAPINHOÁ\n",
              "11        12       São Paulo  Santos                  LAPA\n",
              "12        13  Espírito Santo  Campos               JUBARTE\n",
              "13        14  Rio de Janeiro  Campos                MARLIM\n",
              "14        15  Rio de Janeiro  Campos                VOADOR\n",
              "15        16  Rio de Janeiro  Campos             AnC_BRAVA\n",
              "16        17  Rio de Janeiro  Santos              BERBIGÃO\n",
              "17        18  Rio de Janeiro  Campos             BARRACUDA\n",
              "18        19  Rio de Janeiro  Campos             CARATINGA"
            ],
            "text/html": [
              "\n",
              "  <div id=\"df-60dcdd74-f8ba-418e-910e-4f32e8e6c1a4\">\n",
              "    <div class=\"colab-df-container\">\n",
              "      <div>\n",
              "<style scoped>\n",
              "    .dataframe tbody tr th:only-of-type {\n",
              "        vertical-align: middle;\n",
              "    }\n",
              "\n",
              "    .dataframe tbody tr th {\n",
              "        vertical-align: top;\n",
              "    }\n",
              "\n",
              "    .dataframe thead th {\n",
              "        text-align: right;\n",
              "    }\n",
              "</style>\n",
              "<table border=\"1\" class=\"dataframe\">\n",
              "  <thead>\n",
              "    <tr style=\"text-align: right;\">\n",
              "      <th></th>\n",
              "      <th>id_local</th>\n",
              "      <th>estado</th>\n",
              "      <th>bacia</th>\n",
              "      <th>campo</th>\n",
              "    </tr>\n",
              "  </thead>\n",
              "  <tbody>\n",
              "    <tr>\n",
              "      <th>0</th>\n",
              "      <td>1</td>\n",
              "      <td>Rio de Janeiro</td>\n",
              "      <td>Campos</td>\n",
              "      <td>MARLIM LESTE</td>\n",
              "    </tr>\n",
              "    <tr>\n",
              "      <th>1</th>\n",
              "      <td>2</td>\n",
              "      <td>Rio de Janeiro</td>\n",
              "      <td>Santos</td>\n",
              "      <td>BÚZIOS</td>\n",
              "    </tr>\n",
              "    <tr>\n",
              "      <th>2</th>\n",
              "      <td>3</td>\n",
              "      <td>Rio de Janeiro</td>\n",
              "      <td>Santos</td>\n",
              "      <td>TAMBUATÁ</td>\n",
              "    </tr>\n",
              "    <tr>\n",
              "      <th>3</th>\n",
              "      <td>4</td>\n",
              "      <td>Rio de Janeiro</td>\n",
              "      <td>Santos</td>\n",
              "      <td>MERO</td>\n",
              "    </tr>\n",
              "    <tr>\n",
              "      <th>4</th>\n",
              "      <td>5</td>\n",
              "      <td>Rio de Janeiro</td>\n",
              "      <td>Santos</td>\n",
              "      <td>LULA</td>\n",
              "    </tr>\n",
              "    <tr>\n",
              "      <th>5</th>\n",
              "      <td>6</td>\n",
              "      <td>Rio de Janeiro</td>\n",
              "      <td>Santos</td>\n",
              "      <td>SUL DE LULA</td>\n",
              "    </tr>\n",
              "    <tr>\n",
              "      <th>6</th>\n",
              "      <td>7</td>\n",
              "      <td>Rio de Janeiro</td>\n",
              "      <td>Santos</td>\n",
              "      <td>AnC_LULA</td>\n",
              "    </tr>\n",
              "    <tr>\n",
              "      <th>7</th>\n",
              "      <td>8</td>\n",
              "      <td>São Paulo</td>\n",
              "      <td>Santos</td>\n",
              "      <td>SAPINHOÁ</td>\n",
              "    </tr>\n",
              "    <tr>\n",
              "      <th>8</th>\n",
              "      <td>9</td>\n",
              "      <td>São Paulo</td>\n",
              "      <td>Santos</td>\n",
              "      <td>SUDOESTE DE SAPINHOÁ</td>\n",
              "    </tr>\n",
              "    <tr>\n",
              "      <th>9</th>\n",
              "      <td>10</td>\n",
              "      <td>São Paulo</td>\n",
              "      <td>Santos</td>\n",
              "      <td>NOROESTE DE SAPINHOA</td>\n",
              "    </tr>\n",
              "    <tr>\n",
              "      <th>10</th>\n",
              "      <td>11</td>\n",
              "      <td>São Paulo</td>\n",
              "      <td>Santos</td>\n",
              "      <td>NORDESTE DE SAPINHOÁ</td>\n",
              "    </tr>\n",
              "    <tr>\n",
              "      <th>11</th>\n",
              "      <td>12</td>\n",
              "      <td>São Paulo</td>\n",
              "      <td>Santos</td>\n",
              "      <td>LAPA</td>\n",
              "    </tr>\n",
              "    <tr>\n",
              "      <th>12</th>\n",
              "      <td>13</td>\n",
              "      <td>Espírito Santo</td>\n",
              "      <td>Campos</td>\n",
              "      <td>JUBARTE</td>\n",
              "    </tr>\n",
              "    <tr>\n",
              "      <th>13</th>\n",
              "      <td>14</td>\n",
              "      <td>Rio de Janeiro</td>\n",
              "      <td>Campos</td>\n",
              "      <td>MARLIM</td>\n",
              "    </tr>\n",
              "    <tr>\n",
              "      <th>14</th>\n",
              "      <td>15</td>\n",
              "      <td>Rio de Janeiro</td>\n",
              "      <td>Campos</td>\n",
              "      <td>VOADOR</td>\n",
              "    </tr>\n",
              "    <tr>\n",
              "      <th>15</th>\n",
              "      <td>16</td>\n",
              "      <td>Rio de Janeiro</td>\n",
              "      <td>Campos</td>\n",
              "      <td>AnC_BRAVA</td>\n",
              "    </tr>\n",
              "    <tr>\n",
              "      <th>16</th>\n",
              "      <td>17</td>\n",
              "      <td>Rio de Janeiro</td>\n",
              "      <td>Santos</td>\n",
              "      <td>BERBIGÃO</td>\n",
              "    </tr>\n",
              "    <tr>\n",
              "      <th>17</th>\n",
              "      <td>18</td>\n",
              "      <td>Rio de Janeiro</td>\n",
              "      <td>Campos</td>\n",
              "      <td>BARRACUDA</td>\n",
              "    </tr>\n",
              "    <tr>\n",
              "      <th>18</th>\n",
              "      <td>19</td>\n",
              "      <td>Rio de Janeiro</td>\n",
              "      <td>Campos</td>\n",
              "      <td>CARATINGA</td>\n",
              "    </tr>\n",
              "  </tbody>\n",
              "</table>\n",
              "</div>\n",
              "      <button class=\"colab-df-convert\" onclick=\"convertToInteractive('df-60dcdd74-f8ba-418e-910e-4f32e8e6c1a4')\"\n",
              "              title=\"Convert this dataframe to an interactive table.\"\n",
              "              style=\"display:none;\">\n",
              "        \n",
              "  <svg xmlns=\"http://www.w3.org/2000/svg\" height=\"24px\"viewBox=\"0 0 24 24\"\n",
              "       width=\"24px\">\n",
              "    <path d=\"M0 0h24v24H0V0z\" fill=\"none\"/>\n",
              "    <path d=\"M18.56 5.44l.94 2.06.94-2.06 2.06-.94-2.06-.94-.94-2.06-.94 2.06-2.06.94zm-11 1L8.5 8.5l.94-2.06 2.06-.94-2.06-.94L8.5 2.5l-.94 2.06-2.06.94zm10 10l.94 2.06.94-2.06 2.06-.94-2.06-.94-.94-2.06-.94 2.06-2.06.94z\"/><path d=\"M17.41 7.96l-1.37-1.37c-.4-.4-.92-.59-1.43-.59-.52 0-1.04.2-1.43.59L10.3 9.45l-7.72 7.72c-.78.78-.78 2.05 0 2.83L4 21.41c.39.39.9.59 1.41.59.51 0 1.02-.2 1.41-.59l7.78-7.78 2.81-2.81c.8-.78.8-2.07 0-2.86zM5.41 20L4 18.59l7.72-7.72 1.47 1.35L5.41 20z\"/>\n",
              "  </svg>\n",
              "      </button>\n",
              "      \n",
              "  <style>\n",
              "    .colab-df-container {\n",
              "      display:flex;\n",
              "      flex-wrap:wrap;\n",
              "      gap: 12px;\n",
              "    }\n",
              "\n",
              "    .colab-df-convert {\n",
              "      background-color: #E8F0FE;\n",
              "      border: none;\n",
              "      border-radius: 50%;\n",
              "      cursor: pointer;\n",
              "      display: none;\n",
              "      fill: #1967D2;\n",
              "      height: 32px;\n",
              "      padding: 0 0 0 0;\n",
              "      width: 32px;\n",
              "    }\n",
              "\n",
              "    .colab-df-convert:hover {\n",
              "      background-color: #E2EBFA;\n",
              "      box-shadow: 0px 1px 2px rgba(60, 64, 67, 0.3), 0px 1px 3px 1px rgba(60, 64, 67, 0.15);\n",
              "      fill: #174EA6;\n",
              "    }\n",
              "\n",
              "    [theme=dark] .colab-df-convert {\n",
              "      background-color: #3B4455;\n",
              "      fill: #D2E3FC;\n",
              "    }\n",
              "\n",
              "    [theme=dark] .colab-df-convert:hover {\n",
              "      background-color: #434B5C;\n",
              "      box-shadow: 0px 1px 3px 1px rgba(0, 0, 0, 0.15);\n",
              "      filter: drop-shadow(0px 1px 2px rgba(0, 0, 0, 0.3));\n",
              "      fill: #FFFFFF;\n",
              "    }\n",
              "  </style>\n",
              "\n",
              "      <script>\n",
              "        const buttonEl =\n",
              "          document.querySelector('#df-60dcdd74-f8ba-418e-910e-4f32e8e6c1a4 button.colab-df-convert');\n",
              "        buttonEl.style.display =\n",
              "          google.colab.kernel.accessAllowed ? 'block' : 'none';\n",
              "\n",
              "        async function convertToInteractive(key) {\n",
              "          const element = document.querySelector('#df-60dcdd74-f8ba-418e-910e-4f32e8e6c1a4');\n",
              "          const dataTable =\n",
              "            await google.colab.kernel.invokeFunction('convertToInteractive',\n",
              "                                                     [key], {});\n",
              "          if (!dataTable) return;\n",
              "\n",
              "          const docLinkHtml = 'Like what you see? Visit the ' +\n",
              "            '<a target=\"_blank\" href=https://colab.research.google.com/notebooks/data_table.ipynb>data table notebook</a>'\n",
              "            + ' to learn more about interactive tables.';\n",
              "          element.innerHTML = '';\n",
              "          dataTable['output_type'] = 'display_data';\n",
              "          await google.colab.output.renderOutput(dataTable, element);\n",
              "          const docLink = document.createElement('div');\n",
              "          docLink.innerHTML = docLinkHtml;\n",
              "          element.appendChild(docLink);\n",
              "        }\n",
              "      </script>\n",
              "    </div>\n",
              "  </div>\n",
              "  "
            ]
          },
          "metadata": {},
          "execution_count": 78
        }
      ]
    },
    {
      "cell_type": "markdown",
      "source": [
        "# Pocos - TODO\n",
        "\n",
        "*   Incompleto: problema do poço em vários campos\n",
        "\n",
        "\n"
      ],
      "metadata": {
        "id": "QR4LJHY2VdXe"
      }
    },
    {
      "cell_type": "code",
      "source": [
        "# INSERT INTO\n",
        "#   Pocos(nome_poco_anp, id_local)\n",
        "\n",
        "\n",
        "cmd = \"\"\"\n",
        "SELECT DISTINCT\n",
        "  O.nome_poco_anp, L.estado, L.bacia, L.campo, L.id_local\n",
        "FROM \n",
        "  OriginalDataSet as O\n",
        "INNER JOIN \n",
        "  Locais as L\n",
        "ON\n",
        "  O.campo = L.campo AND O.bacia = L.bacia AND O.estado = L.estado\n",
        "\"\"\"\n",
        "\n",
        "df = pd.read_sql_query(cmd, conn)\n",
        "df\n",
        "\n",
        "# conn.execute(cmd)"
      ],
      "metadata": {
        "id": "IvXSKFGSVq1u"
      },
      "execution_count": null,
      "outputs": []
    }
  ]
}